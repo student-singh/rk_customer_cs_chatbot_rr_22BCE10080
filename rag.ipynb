{
 "cells": [
  {
   "cell_type": "code",
   "execution_count": 86,
   "id": "56ffaf47",
   "metadata": {},
   "outputs": [
    {
     "name": "stdout",
     "output_type": "stream",
     "text": [
      "[{'question': 'How can I create an account?', 'answer': \"To create an account, click on the 'Sign Up' button on the top right corner of our website and follow the instructions to complete the registration process.\"}, {'question': 'What payment methods do you accept?', 'answer': 'We accept major credit cards, debit cards, and PayPal as payment methods for online orders.'}, {'question': 'How can I track my order?', 'answer': \"You can track your order by logging into your account and navigating to the 'Order History' section. There, you will find the tracking information for your shipment.\"}, {'question': 'What is your return policy?', 'answer': 'Our return policy allows you to return products within 30 days of purchase for a full refund, provided they are in their original condition and packaging. Please refer to our Returns page for detailed instructions.'}, {'question': 'Can I cancel my order?', 'answer': 'You can cancel your order if it has not been shipped yet. Please contact our customer support team with your order details, and we will assist you with the cancellation process.'}, {'question': 'How long does shipping take?', 'answer': 'Shipping times vary depending on the destination and the shipping method chosen. Standard shipping usually takes 3-5 business days, while express shipping can take 1-2 business days.'}, {'question': 'Do you offer international shipping?', 'answer': 'Yes, we offer international shipping to select countries. The availability and shipping costs will be calculated during the checkout process based on your location.'}, {'question': 'What should I do if my package is lost or damaged?', 'answer': 'If your package is lost or damaged during transit, please contact our customer support team immediately. We will initiate an investigation and take the necessary steps to resolve the issue.'}, {'question': 'Can I change my shipping address after placing an order?', 'answer': 'If you need to change your shipping address, please contact our customer support team as soon as possible. We will do our best to update the address if the order has not been shipped yet.'}, {'question': 'How can I contact customer support?', 'answer': 'You can contact our customer support team by phone at [phone number] or by email at [email address]. Our team is available [working hours] to assist you with any inquiries or issues you may have.'}, {'question': 'Do you offer gift wrapping services?', 'answer': 'Yes, we offer gift wrapping services for an additional fee. During the checkout process, you can select the option to add gift wrapping to your order.'}, {'question': 'What is your price matching policy?', 'answer': \"We have a price matching policy where we will match the price of an identical product found on a competitor's website. Please contact our customer support team with the details of the product and the competitor's offer.\"}, {'question': 'Can I order by phone?', 'answer': 'Unfortunately, we do not accept orders over the phone. Please place your order through our website for a smooth and secure transaction.'}, {'question': 'Are my personal and payment details secure?', 'answer': 'Yes, we take the security of your personal and payment details seriously. We use industry-standard encryption and follow strict security protocols to ensure your information is protected.'}, {'question': 'What is your price adjustment policy?', 'answer': 'If a product you purchased goes on sale within 7 days of your purchase, we offer a one-time price adjustment. Please contact our customer support team with your order details to request the adjustment.'}, {'question': 'Do you have a loyalty program?', 'answer': 'Yes, we have a loyalty program where you can earn points for every purchase. These points can be redeemed for discounts on future orders. Please visit our website to learn more and join the program.'}, {'question': 'Can I order without creating an account?', 'answer': 'Yes, you can place an order as a guest without creating an account. However, creating an account offers benefits such as order tracking and easier future purchases.'}, {'question': 'Do you offer bulk or wholesale discounts?', 'answer': 'Yes, we offer bulk or wholesale discounts for certain products. Please contact our customer support team or visit our Wholesale page for more information and to discuss your specific requirements.'}, {'question': 'Can I change or cancel an item in my order?', 'answer': 'If you need to change or cancel an item in your order, please contact our customer support team as soon as possible. We will assist you with the necessary steps.'}, {'question': 'How can I leave a product review?', 'answer': \"To leave a product review, navigate to the product page on our website and click on the 'Write a Review' button. You can share your feedback and rating based on your experience with the product\"}, {'question': 'How do I reset my password?', 'answer': \"To reset your password, go to the login page and click on 'Forgot Password'. Enter your email address, and we'll send you a link to create a new password. This ensures account security and quick recovery.\"}, {'question': 'What should I do if I forget my username?', 'answer': \"If you've forgotten your username, contact customer support with the email used for registration. We'll verify your identity and provide your username to maintain account access without compromising security.\"}, {'question': 'How can I update my account information?', 'answer': \"Log into your account, go to 'My Profile' or 'Account Settings', and edit details like name, address, or email. Changes save instantly, helping keep your information current for seamless transactions.\"}, {'question': 'Is two-factor authentication available for my account?', 'answer': \"Yes, we offer two-factor authentication (2FA) for added security. Enable it in your account settings under 'Security' to receive verification codes via SMS or app, protecting against unauthorized access.\"}, {'question': 'How do I delete my account?', 'answer': \"To delete your account, contact customer support with your request. We'll guide you through data removal per privacy laws, ensuring all personal information is securely erased from our systems.\"}, {'question': 'What currencies do you accept for payments?', 'answer': 'We accept payments in USD, EUR, GBP, and CAD. Currency conversion happens at checkout if needed, based on current exchange rates, to facilitate international customers.'}, {'question': 'Do you support Apple Pay or Google Pay?', 'answer': 'Yes, we support Apple Pay and Google Pay for faster, secure checkouts on compatible devices. Select these options at payment to avoid entering card details manually.'}, {'question': 'What happens if my payment fails?', 'answer': 'If payment fails, check your card details or balance and retry. Contact support if issues persist; we can hold your order briefly while resolving payment gateway errors.'}, {'question': 'Can I save multiple payment methods?', 'answer': 'Yes, in your account wallet, add and manage multiple cards or PayPal accounts. This speeds up future purchases and provides flexibility for different transactions.'}, {'question': 'How do I apply a promo code?', 'answer': \"Enter the promo code in the 'Discount Code' field at checkout. It will apply automatically if valid, reducing the total based on the promotion terms for savings.\"}, {'question': 'What if my order is delayed?', 'answer': 'For delays, check tracking or contact support. We monitor shipments and can provide updates, expedited options, or compensation if delays are due to our error.'}, {'question': 'How do I expedite shipping on an existing order?', 'answer': 'Contact support before shipment to upgrade. Additional fees apply, but we can reroute via express carriers if feasible, ensuring faster delivery.'}, {'question': 'What are the customs fees for international orders?', 'answer': \"Customs duties and taxes are the customer's responsibility, calculated by your country upon arrival. We provide estimated costs at checkout for transparency.\"}, {'question': 'Do you ship to PO boxes or military addresses?', 'answer': 'Yes, we ship to PO boxes and APO/FPO addresses via standard carriers. Select the appropriate address type at checkout for proper handling.'}, {'question': 'How do I file a claim for a damaged item?', 'answer': \"Provide photos of damage and packaging to support within 7 days of receipt. We'll process a replacement or refund after verification to resolve quality issues promptly.\"}, {'question': 'What is the process for returning an item?', 'answer': 'Request a return authorization via account or support, pack the item securely, and ship back with the provided label. Refunds process upon receipt and inspection.'}, {'question': 'Can I exchange an item instead of returning it?', 'answer': \"Yes, exchanges are allowed within 30 days for size/color issues. Contact support to arrange; we'll ship the new item once the original is returned.\"}, {'question': 'Who pays for return shipping?', 'answer': 'We provide prepaid labels for defective items; otherwise, customers cover return costs. This policy balances fairness and encourages quality checks before shipping.'}, {'question': 'How long do refunds take to process?', 'answer': \"Refunds process within 5-7 business days after receiving the return. Credits appear on your original payment method, depending on your bank's processing time.\"}, {'question': 'What items are non-returnable?', 'answer': 'Personalized, perishable, or final sale items are non-returnable for hygiene and customization reasons. Check product pages for specific exclusions.'}, {'question': 'How do I report a missing item from my order?', 'answer': \"Contact support with your order number and details. We'll verify packing records and ship replacements free of charge if an error occurred on our end.\"}, {'question': 'What warranty do your products have?', 'answer': \"Most products come with a 1-year manufacturer's warranty against defects. Extended options are available; contact support for claims with proof of purchase.\"}, {'question': 'How do I claim warranty service?', 'answer': \"Submit warranty claims via support with photos and description. We'll repair, replace, or refund based on the terms, covering defects not caused by misuse.\"}, {'question': 'Do you offer product installation support?', 'answer': 'For select items, we provide guides and virtual support. Contact us for complex setups; third-party services may be recommended for in-person help.'}, {'question': 'What if a product is out of stock?', 'answer': 'Sign up for restock notifications on the product page. We can suggest alternatives or backorder if available, minimizing wait times.'}, {'question': 'How accurate are product descriptions and images?', 'answer': 'Descriptions and images are sourced from manufacturers and verified for accuracy. Variations may occur; contact support for clarifications before purchase.'}, {'question': 'Is there a live chat option for support?', 'answer': \"Yes, live chat is available on our website during business hours. It's ideal for quick queries on orders, products, or issues for immediate assistance.\"}, {'question': 'What are your customer support hours?', 'answer': 'Support is available Monday-Friday 9 AM to 5 PM EST via phone/email, and 24/7 via chat for urgent matters, ensuring global accessibility.'}, {'question': 'How do I escalate a complaint?', 'answer': 'If unsatisfied with initial support, request a supervisor or email escalations@[domain].com. We review and respond within 48 hours to resolve disputes fairly.'}, {'question': 'Do you have an FAQ section?', 'answer': 'Yes, our comprehensive FAQ covers common topics. Search there first for self-service; if unanswered, reach out to support for personalized help.'}, {'question': 'How do I subscribe to your newsletter?', 'answer': \"Enter your email in the footer subscription box. You'll receive updates on deals, products, and tips, with easy unsubscribe options for privacy.\"}, {'question': 'What is your privacy policy regarding data?', 'answer': 'We collect minimal data for transactions, never sell it, and comply with GDPR/CCPA. Review the full policy on our site for details on usage and rights.'}, {'question': 'How do I opt out of marketing emails?', 'answer': \"Click 'Unsubscribe' in any email footer or adjust preferences in your account. Changes take effect immediately to respect your communication choices.\"}, {'question': 'Do you use cookies on the site?', 'answer': 'Yes, cookies enhance experience (e.g., cart persistence). Manage consents via the cookie banner; essential ones ensure site functionality.'}, {'question': 'What accessibility features does your site have?', 'answer': 'Our site supports screen readers, keyboard navigation, and alt text for images per WCAG standards. Feedback on improvements is welcome via support.'}, {'question': 'How do loyalty points work?', 'answer': 'Earn 1 point per $1 spent; 100 points = $5 off. Points expire after 12 months, trackable in your account for rewarding repeat business.'}, {'question': 'Can I redeem points on any order?', 'answer': 'Points redeem on most orders over $10, excluding gift cards. Apply at checkout; they combine with some promos for maximum savings.'}, {'question': 'What are the tiers in the loyalty program?', 'answer': 'Bronze (0-500 points): basic earnings; Silver (501-2000): bonus points; Gold (2001+): free shipping. Tiers upgrade automatically based on annual spend.'}, {'question': 'Do points expire?', 'answer': 'Yes, points expire after 12 months of inactivity. Make purchases or log in to keep them active, encouraging ongoing engagement.'}, {'question': 'How do I refer a friend for rewards?', 'answer': 'Share your unique referral link from your account. Friends get 10% off; you earn points on their first purchase, boosting community growth.'}, {'question': 'What gift cards options do you offer?', 'answer': 'E-gift cards from $10-$500, sent via email. Physical cards available; both redeemable online with no expiry for flexible gifting.'}, {'question': 'Can gift cards be refunded?', 'answer': 'Gift cards are non-refundable but transferable. If unused and issues arise, contact support for balance transfers or resolutions.'}, {'question': 'How do I check gift card balance?', 'answer': 'Enter the card code on our Gift Card Balance page. It shows remaining value instantly for easy tracking.'}, {'question': 'Do you offer corporate gifting?', 'answer': 'Yes, bulk gift card purchases with customization. Contact wholesale support for volume discounts and branding options tailored to businesses.'}, {'question': 'What sales tax do you charge?', 'answer': 'Sales tax applies based on shipping address laws, calculated at checkout. Exemptions for resellers require certificate submission upfront.'}, {'question': 'How do I apply for tax exemption?', 'answer': 'Upload your tax-exempt certificate in account settings. Once approved, future orders reflect exemption, streamlining B2B purchases.'}, {'question': 'What environmental practices do you follow?', 'answer': 'We use recyclable packaging, partner with eco-carriers, and offset carbon. Details on our Sustainability page promote responsible operations.'}, {'question': 'Do you have physical stores?', 'answer': 'Currently online-only, but pop-ups occur seasonally. Check our events page or subscribe for locations and in-person experiences.'}, {'question': 'How can I apply for a job at your company?', 'answer': 'Visit our Careers page for openings. Submit resumes online; we value customer-focused individuals for support and operations roles.'}, {'question': 'Who owns the company?', 'answer': \"We're a privately held e-commerce firm focused on quality goods. Ownership details are internal, but leadership info is on the About Us page.\"}, {'question': 'How do I provide feedback on support experience?', 'answer': 'Post-interaction surveys email automatically. Or reply to tickets; your input helps improve service quality and training.'}, {'question': 'What if I receive the wrong item?', 'answer': \"Report via support with photos. We'll ship the correct item free and provide a return label for the error, ensuring satisfaction.\"}, {'question': 'Can I add items to an existing order?', 'answer': \"If unshipped, contact support to combine. Otherwise, place a new order; we can't modify packed shipments for efficiency.\"}, {'question': 'Do you price match after purchase?', 'answer': 'Within 7 days, yes, per our adjustment policy. Provide proof of lower price elsewhere for a refund difference.'}, {'question': 'What browsers are supported on your site?', 'answer': 'Chrome, Firefox, Safari, and Edge latest versions. Optimal experience ensured; clear cache if issues arise.'}, {'question': 'Is your mobile app available?', 'answer': 'Yes, download from App Store or Google Play for shopping, tracking, and support on-the-go with push notifications.'}, {'question': 'How do push notifications work?', 'answer': 'Enable in app settings for order updates, deals. Manage preferences anytime to control alerts without spam.'}, {'question': 'What social media channels do you have?', 'answer': 'Follow us on Instagram, Facebook, Twitter for promotions and support. DM for quick responses on public queries.'}, {'question': 'How do I report a site bug?', 'answer': 'Email support with screenshots and steps. We prioritize fixes, crediting accounts if disruptions affect orders.'}, {'question': 'Do you offer student discounts?', 'answer': 'Yes, 10% off verified via Student Beans. Apply code at checkout for educational community support.'}, {'question': 'What military or senior discounts are available?', 'answer': '15% for military/veterans, 10% for seniors verified at checkout. Honors service and age groups with savings.'}, {'question': 'How does your affiliate program work?', 'answer': 'Join via Affiliate page, earn commissions on referrals. Tracks via cookies; payouts monthly for partners promoting our products.'}, {'question': 'Can I track multiple orders at once?', 'answer': 'In your account dashboard, view all orders and tracking. Guest tracking via email links for convenience.'}, {'question': 'What carriers do you use for shipping?', 'answer': 'UPS, FedEx, USPS domestically; DHL internationally. Chosen for reliability and tracking capabilities.'}, {'question': 'Do you insure shipments?', 'answer': 'All shipments are insured up to $100; additional coverage optional at checkout for high-value orders.'}, {'question': 'How do I schedule a pickup for returns?', 'answer': 'With authorized returns, select carrier pickup during process. Free for defects; coordinates seamless logistics.'}, {'question': 'What COVID-19 safety measures are in place?', 'answer': 'Warehouses follow sanitization, contactless handling. Updated policies on site ensure health compliance.'}, {'question': 'Do you support charitable donations?', 'answer': 'Yes, roundup at checkout donates to partners. Corporate matching available; details on Giving page.'}, {'question': 'How accurate is inventory on the site?', 'answer': 'Real-time updates, but rare discrepancies occur. If oversold, we notify and offer alternatives or refunds promptly.'}, {'question': 'Can I pre-order upcoming products?', 'answer': 'Yes, for featured items. Secure with deposit; ships on release with notifications.'}, {'question': 'What payment installment options exist?', 'answer': 'Via Affirm or Klarna at checkout for qualifying orders. Split payments interest-free over months.'}, {'question': 'How do I dispute a charge?', 'answer': 'Contact support first for resolution; if needed, provide docs for bank disputes. Aims to avoid escalations.'}, {'question': 'Is invoice financing available for businesses?', 'answer': 'For wholesale, net-30 terms post-approval. Apply via business account for credit extensions.'}, {'question': 'What analytics do you provide for wholesale?', 'answer': 'Dashboards with sales data post-purchase. Helps bulk buyers track trends and reorder efficiently.'}, {'question': 'How do I become a vendor/supplier?', 'answer': 'Submit proposals via Vendor page. Reviewed for alignment; partnerships enhance product variety.'}]\n"
     ]
    }
   ],
   "source": [
    "import json\n",
    "\n",
    "with open(\"faqs.json\", \"r\", encoding=\"utf-8\") as f:\n",
    "    data = json.load(f)\n",
    "\n",
    "# data now contains the contents of faqs.json\n",
    "# You can print or process it as needed\n",
    "print(data)"
   ]
  },
  {
   "cell_type": "code",
   "execution_count": 87,
   "id": "31f1b4a5",
   "metadata": {},
   "outputs": [
    {
     "data": {
      "text/plain": [
       "95"
      ]
     },
     "execution_count": 87,
     "metadata": {},
     "output_type": "execute_result"
    }
   ],
   "source": [
    "len(data)"
   ]
  },
  {
   "cell_type": "code",
   "execution_count": 88,
   "id": "707059ee",
   "metadata": {},
   "outputs": [
    {
     "name": "stdout",
     "output_type": "stream",
     "text": [
      "Total number of documents:  95\n"
     ]
    }
   ],
   "source": [
    "from langchain.schema import Document\n",
    "from langchain.text_splitter import RecursiveCharacterTextSplitter\n",
    "\n",
    "# Convert each FAQ entry to a Document object\n",
    "docs = [Document(page_content=f\"{item['question']}\\n{item['answer']}\") for item in data]\n",
    "\n",
    "# Split documents\n",
    "text_splitter = RecursiveCharacterTextSplitter(chunk_size=1000)\n",
    "split_docs = text_splitter.split_documents(docs)\n",
    "\n",
    "print(\"Total number of documents: \", len(split_docs))"
   ]
  },
  {
   "cell_type": "code",
   "execution_count": 89,
   "id": "09fadf00",
   "metadata": {},
   "outputs": [
    {
     "data": {
      "text/plain": [
       "Document(metadata={}, page_content='Do you offer gift wrapping services?\\nYes, we offer gift wrapping services for an additional fee. During the checkout process, you can select the option to add gift wrapping to your order.')"
      ]
     },
     "execution_count": 89,
     "metadata": {},
     "output_type": "execute_result"
    }
   ],
   "source": [
    "docs[10]"
   ]
  },
  {
   "cell_type": "code",
   "execution_count": 90,
   "id": "7e569585",
   "metadata": {},
   "outputs": [
    {
     "name": "stdout",
     "output_type": "stream",
     "text": [
      "[-0.03817719  0.0329111  -0.00545939  0.01436992 -0.04029099]\n",
      "(95, 384)\n",
      "(95, 384)\n"
     ]
    }
   ],
   "source": [
    "from sentence_transformers import SentenceTransformer\n",
    "\n",
    "# Load a free, local embedding model\n",
    "model = SentenceTransformer('all-MiniLM-L6-v2')\n",
    "\n",
    "# Example: embed a single string\n",
    "vector = model.encode(\"hello, world!\")\n",
    "print(vector[:5])\n",
    "\n",
    "# Example: embed a list of texts (e.g., your FAQ questions/answers)\n",
    "texts = [doc.page_content for doc in docs]  # docs from your previous code\n",
    "embeddings = model.encode(texts)\n",
    "print(embeddings.shape)"
   ]
  },
  {
   "cell_type": "code",
   "execution_count": 91,
   "id": "a463d24b",
   "metadata": {},
   "outputs": [
    {
     "name": "stdout",
     "output_type": "stream",
     "text": [
      "Vectorstore persisted to ./chroma_db\n"
     ]
    }
   ],
   "source": [
    "from langchain_chroma import Chroma\n",
    "from sentence_transformers import SentenceTransformer\n",
    "\n",
    "# Wrapper to use sentence-transformers with Chroma\n",
    "class SentenceTransformerEmbeddings:\n",
    "    def __init__(self, model_name='all-MiniLM-L6-v2'):\n",
    "        self.model = SentenceTransformer(model_name)\n",
    "    def embed_documents(self, texts):\n",
    "        return self.model.encode(texts).tolist()\n",
    "    def embed_query(self, text):\n",
    "        return self.model.encode([text])[0].tolist()\n",
    "\n",
    "embeddings = SentenceTransformerEmbeddings()\n",
    "\n",
    "vectorstore = Chroma.from_documents(\n",
    "    documents=docs,\n",
    "    embedding=embeddings,\n",
    "    persist_directory=\"./chroma_db\"\n",
    ")\n",
    "print(\"Vectorstore persisted to ./chroma_db\")"
   ]
  },
  {
   "cell_type": "code",
   "execution_count": 98,
   "id": "1ca42dd6",
   "metadata": {},
   "outputs": [
    {
     "name": "stdout",
     "output_type": "stream",
     "text": [
      "DEBUG: Retrieved docs count: 10\n",
      "DEBUG: Doc 1: What carriers do you use for shipping?\n",
      "UPS, FedEx, USPS domestically; DHL internationally. Chosen for reliability and tracking capabilities....\n",
      "DEBUG: Doc 2: What carriers do you use for shipping?\n",
      "UPS, FedEx, USPS domestically; DHL internationally. Chosen for reliability and tracking capabilities....\n",
      "DEBUG: Doc 3: What carriers do you use for shipping?\n",
      "UPS, FedEx, USPS domestically; DHL internationally. Chosen for reliability and tracking capabilities....\n",
      "Result 1:\n",
      "What are the tiers in the loyalty program?\n",
      "Bronze (0-500 points): basic earnings; Silver (501-2000): bonus points; Gold (2001+): free shipping. Tiers upgrade automatically based on annual spend.\n",
      "----------------------------------------\n",
      "Result 2:\n",
      "What are the tiers in the loyalty program?\n",
      "Bronze (0-500 points): basic earnings; Silver (501-2000): bonus points; Gold (2001+): free shipping. Tiers upgrade automatically based on annual spend.\n",
      "----------------------------------------\n",
      "Result 3:\n",
      "What are the tiers in the loyalty program?\n",
      "Bronze (0-500 points): basic earnings; Silver (501-2000): bonus points; Gold (2001+): free shipping. Tiers upgrade automatically based on annual spend.\n",
      "----------------------------------------\n",
      "Result 4:\n",
      "Can I pre-order upcoming products?\n",
      "Yes, for featured items. Secure with deposit; ships on release with notifications.\n",
      "----------------------------------------\n",
      "Result 5:\n",
      "Can I pre-order upcoming products?\n",
      "Yes, for featured items. Secure with deposit; ships on release with notifications.\n",
      "----------------------------------------\n",
      "Result 6:\n",
      "Can I pre-order upcoming products?\n",
      "Yes, for featured items. Secure with deposit; ships on release with notifications.\n",
      "----------------------------------------\n",
      "Result 7:\n",
      "What if I receive the wrong item?\n",
      "Report via support with photos. We'll ship the correct item free and provide a return label for the error, ensuring satisfaction.\n",
      "----------------------------------------\n",
      "Result 8:\n",
      "What if I receive the wrong item?\n",
      "Report via support with photos. We'll ship the correct item free and provide a return label for the error, ensuring satisfaction.\n",
      "----------------------------------------\n",
      "Result 9:\n",
      "What if I receive the wrong item?\n",
      "Report via support with photos. We'll ship the correct item free and provide a return label for the error, ensuring satisfaction.\n",
      "----------------------------------------\n",
      "Result 10:\n",
      "How do I check gift card balance?\n",
      "Enter the card code on our Gift Card Balance page. It shows remaining value instantly for easy tracking.\n",
      "----------------------------------------\n"
     ]
    }
   ],
   "source": [
    "# Retrieve similar documents using the Chroma vectorstore and sentence-transformers embeddings\n",
    "retriever = vectorstore.as_retriever(search_type=\"similarity\", search_kwargs={\"k\": 10})\n",
    "\n",
    "# Define full_input for debugging\n",
    "full_input = \"What is delivery modes available?\"\n",
    "\n",
    "retrieved_docs = retriever.invoke(full_input)\n",
    "print(\"DEBUG: Retrieved docs count:\", len(retrieved_docs))\n",
    "for i, doc in enumerate(retrieved_docs[:3]):\n",
    "    print(f\"DEBUG: Doc {i+1}: {doc.page_content[:150]}...\")\n",
    "\n",
    "query = \"What is new in yolov9?\"\n",
    "retrieved_docs = retriever.invoke(query)\n",
    "\n",
    "for i, doc in enumerate(retrieved_docs, 1):\n",
    "    print(f\"Result {i}:\")\n",
    "    print(doc.page_content)\n",
    "    print(\"-\" * 40)"
   ]
  },
  {
   "cell_type": "code",
   "execution_count": 93,
   "id": "c4ce3d5a",
   "metadata": {},
   "outputs": [
    {
     "name": "stdout",
     "output_type": "stream",
     "text": [
      "Result 1 (score=0.45):\n",
      "Do you offer product installation support?\n",
      "For select items, we provide guides and virtual support. Contact us for complex setups; third-party services may be recommended for in-person help.\n",
      "----------------------------------------\n",
      "Result 2 (score=0.45):\n",
      "Do you offer product installation support?\n",
      "For select items, we provide guides and virtual support. Contact us for complex setups; third-party services may be recommended for in-person help.\n",
      "----------------------------------------\n",
      "Result 3 (score=0.45):\n",
      "Do you offer product installation support?\n",
      "For select items, we provide guides and virtual support. Contact us for complex setups; third-party services may be recommended for in-person help.\n",
      "----------------------------------------\n",
      "Result 4 (score=1.22):\n",
      "Is there a live chat option for support?\n",
      "Yes, live chat is available on our website during business hours. It's ideal for quick queries on orders, products, or issues for immediate assistance.\n",
      "----------------------------------------\n",
      "Result 5 (score=1.22):\n",
      "Is there a live chat option for support?\n",
      "Yes, live chat is available on our website during business hours. It's ideal for quick queries on orders, products, or issues for immediate assistance.\n",
      "----------------------------------------\n",
      "Result 6 (score=1.22):\n",
      "Is there a live chat option for support?\n",
      "Yes, live chat is available on our website during business hours. It's ideal for quick queries on orders, products, or issues for immediate assistance.\n",
      "----------------------------------------\n",
      "Result 7 (score=1.35):\n",
      "Do you offer bulk or wholesale discounts?\n",
      "Yes, we offer bulk or wholesale discounts for certain products. Please contact our customer support team or visit our Wholesale page for more information and to discuss your specific requirements.\n",
      "----------------------------------------\n",
      "Result 8 (score=1.35):\n",
      "Do you offer bulk or wholesale discounts?\n",
      "Yes, we offer bulk or wholesale discounts for certain products. Please contact our customer support team or visit our Wholesale page for more information and to discuss your specific requirements.\n",
      "----------------------------------------\n",
      "Result 9 (score=1.35):\n",
      "Do you offer bulk or wholesale discounts?\n",
      "Yes, we offer bulk or wholesale discounts for certain products. Please contact our customer support team or visit our Wholesale page for more information and to discuss your specific requirements.\n",
      "----------------------------------------\n",
      "Result 10 (score=1.38):\n",
      "How do I provide feedback on support experience?\n",
      "Post-interaction surveys email automatically. Or reply to tickets; your input helps improve service quality and training.\n",
      "----------------------------------------\n"
     ]
    }
   ],
   "source": [
    "# Retrieve similar documents using the Chroma vectorstore and sentence-transformers embeddings\n",
    "query = \"Do you offer product installation support?\"\n",
    "results = vectorstore.similarity_search_with_score(query, k=10)\n",
    "\n",
    "# For cosine distance, lower is more similar. Set a threshold (e.g., 0.7) for 'in context'.\n",
    "threshold = 0.7\n",
    "\n",
    "if results and results[0][1] > threshold:\n",
    "    print(\"Sorry, I don't have enough information to answer that question.\")\n",
    "else:\n",
    "    for i, (doc, score) in enumerate(results, 1):\n",
    "        print(f\"Result {i} (score={score:.2f}):\")\n",
    "        print(doc.page_content)\n",
    "        print(\"-\" * 40)"
   ]
  },
  {
   "cell_type": "code",
   "execution_count": 94,
   "id": "00416755",
   "metadata": {},
   "outputs": [],
   "source": [
    "from langchain_google_genai import ChatGoogleGenerativeAI\n",
    "\n",
    "llm = ChatGoogleGenerativeAI(model=\"gemini-2.5-flash\", temperature=0.3, max_tokens=500)"
   ]
  },
  {
   "cell_type": "code",
   "execution_count": 95,
   "id": "01c1f6ca",
   "metadata": {},
   "outputs": [
    {
     "name": "stdout",
     "output_type": "stream",
     "text": [
      "I don't know the answer to that question. The provided context does not contain information about a CGPA.\n"
     ]
    }
   ],
   "source": [
    "from langchain.chains import create_retrieval_chain\n",
    "from langchain.chains.combine_documents import create_stuff_documents_chain\n",
    "from langchain_core.prompts import ChatPromptTemplate\n",
    "\n",
    "system_prompt = (\n",
    "    \"You are an assistant for question-answering tasks. \"\n",
    "    \"Use the following pieces of retrieved context to answer \"\n",
    "    \"the question. If you don't know the answer, say that you \"\n",
    "    \"don't know. Use three sentences maximum and keep the \"\n",
    "    \"answer concise.\\n\\n{context}\"\n",
    ")\n",
    "\n",
    "prompt = ChatPromptTemplate.from_messages([\n",
    "    (\"system\", system_prompt),\n",
    "    (\"human\", \"{input}\"),\n",
    "])\n",
    "\n",
    "# Create a chain that stuffs retrieved docs into the prompt and calls the LLM\n",
    "stuff_chain = create_stuff_documents_chain(llm, prompt)\n",
    "rag_chain = create_retrieval_chain(retriever, stuff_chain)\n",
    "\n",
    "# Example usage:\n",
    "question = \"What is your cgpa?\"\n",
    "response = rag_chain.invoke({\"input\": question})\n",
    "print(response[\"answer\"])"
   ]
  },
  {
   "cell_type": "code",
   "execution_count": 96,
   "id": "c87de333",
   "metadata": {},
   "outputs": [
    {
     "name": "stdout",
     "output_type": "stream",
     "text": [
      "I don't know the answer to that question.\n"
     ]
    }
   ],
   "source": [
    "from langchain.chains import create_retrieval_chain\n",
    "from langchain.chains.combine_documents import create_stuff_documents_chain\n",
    "from langchain_core.prompts import ChatPromptTemplate\n",
    "\n",
    "system_prompt = (\n",
    "    \"You are an assistant for question-answering tasks. \"\n",
    "    \"Use the following pieces of retrieved context to answer \"\n",
    "    \"the question. If you don't know the answer, say that you \"\n",
    "    \"don't know. Use three sentences maximum and keep the \"\n",
    "    \"answer concise.\\n\\n\"\n",
    "    \"{context}\"\n",
    ")\n",
    "\n",
    "prompt = ChatPromptTemplate.from_messages([\n",
    "    (\"system\", system_prompt),\n",
    "    (\"human\", \"{input}\"),\n",
    "])\n",
    "\n",
    "# Create a chain that stuffs retrieved docs into the prompt and calls the LLM\n",
    "stuff_chain = create_stuff_documents_chain(llm, prompt)\n",
    "rag_chain = create_retrieval_chain(retriever, stuff_chain)\n",
    "\n",
    "# Example usage:\n",
    "question = \"What is your cgpa?\"\n",
    "response = rag_chain.invoke({\"input\": question})\n",
    "print(response[\"answer\"])"
   ]
  },
  {
   "cell_type": "code",
   "execution_count": 97,
   "id": "daab5728",
   "metadata": {},
   "outputs": [
    {
     "name": "stdout",
     "output_type": "stream",
     "text": [
      "For domestic shipping, UPS, FedEx, and USPS are used, while DHL handles international deliveries. There is also an option to expedite shipping on an existing order by contacting support before shipment, which may involve rerouting via express carriers for faster delivery.\n"
     ]
    }
   ],
   "source": [
    "# Create a chain that stuffs retrieved docs into the prompt and calls the LLM\n",
    "question_answer_chain = create_stuff_documents_chain(llm, prompt)\n",
    "rag_chain = create_retrieval_chain(retriever, question_answer_chain)\n",
    "\n",
    "# Example usage:\n",
    "question = \"What is delivery modes available?\"\n",
    "response = rag_chain.invoke({\"input\": question})\n",
    "print(response[\"answer\"])"
   ]
  }
 ],
 "metadata": {
  "kernelspec": {
   "display_name": "env_langchain1",
   "language": "python",
   "name": "python3"
  },
  "language_info": {
   "codemirror_mode": {
    "name": "ipython",
    "version": 3
   },
   "file_extension": ".py",
   "mimetype": "text/x-python",
   "name": "python",
   "nbconvert_exporter": "python",
   "pygments_lexer": "ipython3",
   "version": "3.10.18"
  }
 },
 "nbformat": 4,
 "nbformat_minor": 5
}
